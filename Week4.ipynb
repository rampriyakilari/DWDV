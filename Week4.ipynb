{
 "cells": [
  {
   "cell_type": "code",
   "execution_count": 6,
   "id": "2f3605a6",
   "metadata": {},
   "outputs": [
    {
     "name": "stdout",
     "output_type": "stream",
     "text": [
      "Requirement already satisfied: agate in c:\\users\\cmrit\\anaconda3\\lib\\site-packages (1.7.1)\n",
      "Requirement already satisfied: Babel>=2.0 in c:\\users\\cmrit\\anaconda3\\lib\\site-packages (from agate) (2.11.0)\n",
      "Requirement already satisfied: isodate>=0.5.4 in c:\\users\\cmrit\\anaconda3\\lib\\site-packages (from agate) (0.6.1)\n",
      "Requirement already satisfied: leather>=0.3.2 in c:\\users\\cmrit\\anaconda3\\lib\\site-packages (from agate) (0.3.4)\n",
      "Requirement already satisfied: parsedatetime!=2.5,>=2.1 in c:\\users\\cmrit\\anaconda3\\lib\\site-packages (from agate) (2.6)\n",
      "Requirement already satisfied: python-slugify>=1.2.1 in c:\\users\\cmrit\\anaconda3\\lib\\site-packages (from agate) (5.0.2)\n",
      "Requirement already satisfied: pytimeparse>=1.1.5 in c:\\users\\cmrit\\anaconda3\\lib\\site-packages (from agate) (1.1.8)\n",
      "Requirement already satisfied: pytz>=2015.7 in c:\\users\\cmrit\\anaconda3\\lib\\site-packages (from Babel>=2.0->agate) (2022.7)\n",
      "Requirement already satisfied: six in c:\\users\\cmrit\\anaconda3\\lib\\site-packages (from isodate>=0.5.4->agate) (1.16.0)\n",
      "Requirement already satisfied: text-unidecode>=1.3 in c:\\users\\cmrit\\anaconda3\\lib\\site-packages (from python-slugify>=1.2.1->agate) (1.3)\n"
     ]
    }
   ],
   "source": [
    "!pip install agate"
   ]
  },
  {
   "cell_type": "code",
   "execution_count": 65,
   "id": "e948cf3e",
   "metadata": {},
   "outputs": [
    {
     "name": "stdout",
     "output_type": "stream",
     "text": [
      "('Country Rank', 'Country / Territory', 'WB Code', 'IFS Code', 'Region', 'Country Rank_2', 'CPI 2013 Score', 'Surveys Used', 'Standard Error', '90% Confidence intervalLower', 'Upper', 'Scores rangeMIN', 'MAX', 'Data sourcesAFDB', 'BF (SGI)', 'BF (BTI)', 'IMD', 'ICRG', 'WB', 'WEF', 'WJP', 'EIU', 'GI', 'PERC', 'TI', 'FH', 'Total (%)', 'c', 'Sex (%)Male', 'Female', 'Place of residence (%)Urban', 'Rural', 'Household wealth quintile (%)Poorest', 'Second', 'Middle', 'Fourth', 'Richest', 'Reference Year', 'Data Source', 'total child labour rank')\n"
     ]
    },
    {
     "name": "stderr",
     "output_type": "stream",
     "text": [
      "C:\\Users\\cmrit\\anaconda3\\Lib\\site-packages\\agate\\utils.py:290: DuplicateColumnWarning: Column name \"Country Rank\" already exists in Table. Column will be renamed to \"Country Rank_2\".\n",
      "C:\\Users\\cmrit\\anaconda3\\Lib\\site-packages\\agate\\utils.py:274: UnnamedColumnWarning: Column 2 has no name. Using \"c\".\n"
     ]
    }
   ],
   "source": [
    "#Draw the chart between perceived corruption scoeres compared to the child labour percentages using matplotlib\n",
    "import xlrd\n",
    "from xlrd.sheet import ctype_text\n",
    "import agate\n",
    "import numpy\n",
    "import json\n",
    "import matplotlib.pyplot as plt\n",
    "\n",
    "#declare the types of data in the dataset\n",
    "text_type=agate.Text()\n",
    "number_type=agate.Number()\n",
    "boolean_type=agate.Boolean()\n",
    "date_type=agate.Date()\n",
    "\n",
    "#define a function to get the types of the data\n",
    "def get_types(example_row):\n",
    "    types=[]\n",
    "    for v in example_row:\n",
    "        value_type=ctype_text[v.ctype]\n",
    "        if value_type=='text':\n",
    "            types.append(text_type)\n",
    "        elif value_type=='number':\n",
    "            types.append(number_type)\n",
    "        elif value_type=='boolean':\n",
    "            types.append(boolean_type)\n",
    "        elif value_type=='xldate':\n",
    "            types.append(date_type)\n",
    "        else:\n",
    "            types.append(text_type)\n",
    "    return types\n",
    "\n",
    "#define a fucntion to create a table \n",
    "def get_table(new_arr,types,titles):\n",
    "    try:\n",
    "     table=agate.Table(new_arr,titles,types)\n",
    "     return table\n",
    "    except Exception as e:\n",
    "        print(e)\n",
    "cpi_workbook=xlrd.open_workbook('corruption_perception_index.xls')\n",
    "cpi_sheet=cpi_workbook.sheets()[0]\n",
    "\n",
    "\n",
    "cpi_title_rows=zip(cpi_sheet.row_values(1),cpi_sheet.row_values(2))  #zip fuction is combine multiple in to single list\n",
    "\n",
    "cpi_titles=[t[0]+''+t[1] for t in cpi_title_rows]\n",
    "cpi_titles=[t.strip() for t in cpi_titles]\n",
    "\n",
    "cpi_rows=[cpi_sheet.row_values(r) for r in range(3,cpi_sheet.nrows)]\n",
    "cpi_types=get_types(cpi_sheet.row(3))\n",
    "cpi_table=get_table(cpi_rows,cpi_types,cpi_titles)\n",
    "\n",
    "try:\n",
    "    workbook=xlrd.open_workbook('unicef_oct_2014.xls')\n",
    "    sheet=workbook.sheets()[0]\n",
    "\n",
    "except Exception as e:\n",
    "    print(e)\n",
    "    \n",
    "title_rows=list(zip(sheet.row_values(4),sheet.row_values(5)))\n",
    "titles=[t[0]+''+t[1] for t in title_rows]\n",
    "titles=[t.strip() for t in titles]\n",
    "country_rows=[sheet.row_values(r) for r in range(6,114)]\n",
    "\n",
    "\n",
    "example_row=sheet.row(6)\n",
    "types=[]\n",
    "types=get_types(example_row)\n",
    "\n",
    "#Define a function to remove the bad characters from the data\n",
    "def remove_bad_chars(val):\n",
    "    if val=='-':\n",
    "        return None\n",
    "    return val\n",
    "\n",
    "cleaned_rows=[]\n",
    "\n",
    "def get_new_array(old_array,function_to_clean):\n",
    "    new_arr=[]\n",
    "    for row in old_array:\n",
    "        cleaned_row=[function_to_clean(rv) for rv in row]\n",
    "        new_arr.append(cleaned_row)\n",
    "    return new_arr\n",
    "cleaned_rows=get_new_array(country_rows,remove_bad_chars)\n",
    "table=agate.Table(cleaned_rows,titles,types)\n",
    "ranked=table.compute([('total child labour rank' , agate.Rank('Total (%)',reverse=True)),])\n",
    "\n",
    "cpi_and_cl=cpi_table.join(ranked,'Country / Territory','Countries and areas',inner=True)\n",
    "print(cpi_and_cl.column_names)\n"
   ]
  },
  {
   "cell_type": "code",
   "execution_count": 66,
   "id": "e89bdd99",
   "metadata": {},
   "outputs": [
    {
     "name": "stdout",
     "output_type": "stream",
     "text": [
      "| Country Rank | Country / Territory  | WB Code | IFS Code | Region | Country Rank_2 | CPI 2013 Score | ... |\n",
      "| ------------ | -------------------- | ------- | -------- | ------ | -------------- | -------------- | --- |\n",
      "|           19 | Uruguay              | URY     |      298 | AM     |             19 |             73 | ... |\n",
      "|           22 | Chile                | CHL     |      228 | AM     |             22 |             71 | ... |\n",
      "|           22 | Saint Lucia          | LCA     |      362 | AM     |             22 |             71 | ... |\n",
      "|           30 | Botswana             | BWA     |      616 | AF     |             30 |             64 | ... |\n",
      "|           31 | Bhutan               | BTN     |      514 | AP     |             31 |             63 | ... |\n",
      "|           33 | Portugal             | PRT     |      182 | EU     |             33 |             62 | ... |\n",
      "|           49 | Costa Rica           | CRI     |      238 | AM     |             49 |             53 | ... |\n",
      "|           49 | Rwanda               | RWA     |      714 | AF     |             49 |             53 | ... |\n",
      "|           53 | Turkey               | TUR     |      186 | EE     |             53 |             50 | ... |\n",
      "|           55 | Georgia              | GEO     |      915 | EE     |             55 |             49 | ... |\n",
      "|           55 | Lesotho              | LSO     |      666 | AF     |             55 |             49 | ... |\n",
      "|           57 | Bahrain              | BHR     |      419 | ME     |             57 |             48 | ... |\n",
      "|           63 | Ghana                | GHA     |      652 | AF     |             63 |             46 | ... |\n",
      "|           66 | Jordan               | JOR     |      439 | ME     |             66 |             45 | ... |\n",
      "|           67 | Montenegro           | MON     |      943 | EE     |             67 |             44 | ... |\n",
      "|           69 | Romania              | ROM     |      968 | EU     |             69 |             43 | ... |\n",
      "|           72 | Bosnia and Herzeg... | BIH     |      963 | EE     |             72 |             42 | ... |\n",
      "|           72 | Brazil               | BRA     |      223 | AM     |             72 |             42 | ... |\n",
      "|           72 | Sao Tome and Prin... | STP     |      716 | AF     |             72 |             42 | ... |\n",
      "|           72 | Serbia               | SCG     |      965 | EE     |             72 |             42 | ... |\n",
      "|          ... | ...                  | ...     |      ... | ...    |            ... |            ... | ... |\n"
     ]
    }
   ],
   "source": [
    "with open('earth.json') as f:\n",
    "    country_json=json.loads(f.read())\n",
    "country_dic={}\n",
    "for dct in country_json:\n",
    "    country_dic[dct['name']]=dct['parent']\n",
    "def get_country(country_row):\n",
    "    return country_dic.get(country_row['Country / Territory'].lower())\n",
    "cpi_and_cl=cpi_and_cl.compute([('continent',agate.Formula(text_type,get_country)),])\n",
    "cpi_and_cl.print_table(max_columns=7)"
   ]
  },
  {
   "cell_type": "code",
   "execution_count": 67,
   "id": "801c1f60",
   "metadata": {},
   "outputs": [
    {
     "name": "stdout",
     "output_type": "stream",
     "text": [
      "Somalia:49.0%-8.0\n",
      "Cameroon:41.7%-25.0\n",
      "Zambia:40.6%-38.0\n",
      "Burkina Faso:39.2%-38.0\n",
      "Ghana:33.9%-46.0\n",
      "Niger:30.5%-34.0\n",
      "Rwanda:28.5%-53.0\n",
      "Central African Republic:28.5%-25.0\n",
      "Togo:28.3%-29.0\n",
      "Guinea:28.3%-24.0\n",
      "Ethiopia:27.4%-33.0\n",
      "Burundi:26.3%-21.0\n",
      "Chad:26.1%-19.0\n",
      "Sierra Leone:26.0%-30.0\n",
      "Kenya:25.9%-27.0\n",
      "Malawi:25.7%-37.0\n",
      "Nigeria:24.7%-25.0\n",
      "Angola:23.5%-23.0\n",
      "Lesotho:22.9%-49.0\n",
      "Madagascar:22.9%-28.0\n",
      "Mozambique:22.2%-30.0\n",
      "Comoros:22.0%-28.0\n",
      "Mali:21.4%-28.0\n",
      "Liberia:20.8%-38.0\n",
      "Gambia:19.2%-28.0\n",
      "Uganda:16.3%-26.0\n",
      "Benin:15.3%-36.0\n",
      "Mauritania:14.6%-30.0\n",
      "Senegal:14.5%-41.0\n",
      "Gabon:13.4%-34.0\n",
      "Egypt:9.3%-32.0\n",
      "Botswana:9.0%-64.0\n",
      "Morocco:8.3%-37.0\n",
      "Djibouti:7.7%-36.0\n",
      "Swaziland:7.3%-39.0\n",
      "Algeria:4.7%-36.0\n",
      "Tunisia:2.1%-41.0\n"
     ]
    }
   ],
   "source": [
    "africa_cpi_cl=cpi_and_cl.where(lambda x:x['continent']=='africa')\n",
    "for r in africa_cpi_cl.order_by('Total (%)',reverse=True).rows:\n",
    "    print(\"{}:{}%-{}\".format(r['Country / Territory'],r['Total (%)'],r['CPI 2013 Score']))\n",
    "    "
   ]
  },
  {
   "cell_type": "code",
   "execution_count": 68,
   "id": "e75101dd",
   "metadata": {},
   "outputs": [
    {
     "name": "stdout",
     "output_type": "stream",
     "text": [
      "-0.37266223510042945\n"
     ]
    }
   ],
   "source": [
    "print(numpy.corrcoef([float(t) for t in africa_cpi_cl.columns['Total (%)'].values()],[float(c) for c in africa_cpi_cl.columns['CPI 2013 Score'].values()])[0,1])\n"
   ]
  },
  {
   "cell_type": "code",
   "execution_count": 69,
   "id": "8b9e2458",
   "metadata": {},
   "outputs": [
    {
     "name": "stdout",
     "output_type": "stream",
     "text": [
      "Sierra Leone:26.0%-30.0\n",
      "Togo:28.3%-29.0\n",
      "Madagascar:22.9%-28.0\n",
      "Kenya:25.9%-27.0\n",
      "Cameroon:41.7%-25.0\n",
      "Central African Republic:28.5%-25.0\n",
      "Nigeria:24.7%-25.0\n",
      "Guinea:28.3%-24.0\n",
      "Angola:23.5%-23.0\n",
      "Burundi:26.3%-21.0\n",
      "Chad:26.1%-19.0\n",
      "Somalia:49.0%-8.0\n"
     ]
    },
    {
     "data": {
      "image/png": "[encoded data removed]",
      "text/plain": [
       "<Figure size 640x480 with 1 Axes>"
      ]
     },
     "metadata": {},
     "output_type": "display_data"
    }
   ],
   "source": [
    "africa_cpi_cl=africa_cpi_cl.compute([('Africa Child Labour Rank', agate.Rank('Total (%)',reverse = True)),])\n",
    "africa_cpi_cl=africa_cpi_cl.compute([('Africa CPI Rank', agate.Rank('CPI 2013 Score')),])\n",
    "cl_mean=africa_cpi_cl.aggregate(agate.Mean('Total (%)'))\n",
    "cpi_mean=africa_cpi_cl.aggregate(agate.Mean('CPI 2013 Score'))\n",
    "\n",
    "def highest_rates(row):\n",
    "    if row['Total (%)']>cl_mean and row['CPI 2013 Score']<cpi_mean:\n",
    "        return True\n",
    "    return False\n",
    "\n",
    "highest_cpi_cl=africa_cpi_cl.where(lambda x:highest_rates(x))\n",
    "\n",
    "for r in highest_cpi_cl.rows:\n",
    "    print(\"{}:{}%-{}\".format(r['Country / Territory'],r['Total (%)'],r['CPI 2013 Score']))\n",
    "    \n",
    "plt.plot(africa_cpi_cl.columns['CPI 2013 Score'],africa_cpi_cl.columns['Total (%)'])\n",
    "plt.xlabel('CPI 2013 Score')\n",
    "plt.ylabel('Child Labour Percentage')\n",
    "plt.show()"
   ]
  },
  {
   "cell_type": "code",
   "execution_count": null,
   "id": "6ea71106",
   "metadata": {},
   "outputs": [],
   "source": []
  }
 ],
 "metadata": {
  "kernelspec": {
   "display_name": "Python 3 (ipykernel)",
   "language": "python",
   "name": "python3"
  },
  "language_info": {
   "codemirror_mode": {
    "name": "ipython",
    "version": 3
   },
   "file_extension": ".py",
   "mimetype": "text/x-python",
   "name": "python",
   "nbconvert_exporter": "python",
   "pygments_lexer": "ipython3",
   "version": "3.11.4"
  }
 },
 "nbformat": 4,
 "nbformat_minor": 5
}
